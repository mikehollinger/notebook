{
 "cells": [
  {
   "cell_type": "code",
   "execution_count": 1,
   "metadata": {},
   "outputs": [],
   "source": [
    "import requests\n",
    "import json\n",
    "import pprint"
   ]
  },
  {
   "cell_type": "markdown",
   "metadata": {},
   "source": [
    "# Define Variables For Upload"
   ]
  },
  {
   "cell_type": "code",
   "execution_count": 12,
   "metadata": {},
   "outputs": [],
   "source": [
    "instance_url = \"https://vision-poc1.aus.stglabs.ibm.com/visual-inspection-v130-prod\"\n",
    "url_base = instance_url + \"/api\"\n",
    "datasetid = \"f6479060-2cad-4393-b6fa-23afbd55e8e5\" #get this from the URL you're interacting with in the GUI\n",
    "path_file_image = \"./sampleimage.jpg\" #path relative to our notebook\n",
    "f = open(path_file_image, 'rb')\n",
    "myfiles = [ ('files', f) ]\n",
    "headers = {\"X-Auth-Token\": \"INSERT_TOKEN_HERE\"} # get from API key function or from vision-tools or /tokens API depending on version\n"
   ]
  },
  {
   "cell_type": "markdown",
   "metadata": {},
   "source": [
    "# Upload Image and Metadata Separately"
   ]
  },
  {
   "cell_type": "markdown",
   "metadata": {},
   "source": [
    "## Step 1: Upload the file and get its UUID\n",
    "Note that you can upload multiple files if desired."
   ]
  },
  {
   "cell_type": "code",
   "execution_count": 3,
   "metadata": {},
   "outputs": [
    {
     "name": "stderr",
     "output_type": "stream",
     "text": [
      "/Users/mchollin/.local/lib/python3.6/site-packages/urllib3/connectionpool.py:851: InsecureRequestWarning: Unverified HTTPS request is being made. Adding certificate verification is strongly advised. See: https://urllib3.readthedocs.io/en/latest/advanced-usage.html#ssl-warnings\n",
      "  InsecureRequestWarning)\n"
     ]
    },
    {
     "data": {
      "text/plain": [
       "<Response [200]>"
      ]
     },
     "execution_count": 3,
     "metadata": {},
     "output_type": "execute_result"
    }
   ],
   "source": [
    "uploadresp = requests.post(url_base + \"/datasets/\" + datasetid + \"/files\",\n",
    "                     headers=headers,\n",
    "                     files=myfiles,\n",
    "                     #data=json.dumps(data),\n",
    "                     verify=False)\n",
    "uploadresp"
   ]
  },
  {
   "cell_type": "markdown",
   "metadata": {},
   "source": [
    "## Step 2: Parse the response, and find the UUID(s) of the files uploaded\n",
    "Note that the API will respond with a resultList, and for each file uploaded pass an individual success or failure, and a mapping with the original source file to a UUID which may be used for further reference."
   ]
  },
  {
   "cell_type": "code",
   "execution_count": 4,
   "metadata": {},
   "outputs": [
    {
     "name": "stdout",
     "output_type": "stream",
     "text": [
      "{'result': 'success',\n",
      " 'resultList': [{'dataset_id': 'f6479060-2cad-4393-b6fa-23afbd55e8e5',\n",
      "                 'id': '9cf08f1a-8eab-4150-a48a-bf52f24629b0',\n",
      "                 'result': 'success',\n",
      "                 'source_filepath': 'sampleimage.jpg'}]}\n"
     ]
    }
   ],
   "source": [
    "pprint.pprint((uploadresp.json()))"
   ]
  },
  {
   "cell_type": "markdown",
   "metadata": {},
   "source": [
    "## Step 3: Save the UUID from the upload response"
   ]
  },
  {
   "cell_type": "code",
   "execution_count": 5,
   "metadata": {},
   "outputs": [
    {
     "name": "stdout",
     "output_type": "stream",
     "text": [
      "9cf08f1a-8eab-4150-a48a-bf52f24629b0\n"
     ]
    }
   ],
   "source": [
    "fileid = uploadresp.json()['resultList'][0]['id']\n",
    "print(fileid)"
   ]
  },
  {
   "cell_type": "markdown",
   "metadata": {},
   "source": [
    "## Step 4: Create a New Tag if Necessary\n",
    "Labels are bound to a particular image by UUID. Each label is assigned a UUID at creation."
   ]
  },
  {
   "cell_type": "code",
   "execution_count": 6,
   "metadata": {},
   "outputs": [
    {
     "name": "stdout",
     "output_type": "stream",
     "text": [
      "{'dataset_tag_id': 'f6479060-2cad-4393-b6fa-23afbd55e8e5-examplelabel',\n",
      " 'fault': 'Tag with same name already exists.',\n",
      " 'result': 'fail'}\n"
     ]
    },
    {
     "name": "stderr",
     "output_type": "stream",
     "text": [
      "/Users/mchollin/.local/lib/python3.6/site-packages/urllib3/connectionpool.py:851: InsecureRequestWarning: Unverified HTTPS request is being made. Adding certificate verification is strongly advised. See: https://urllib3.readthedocs.io/en/latest/advanced-usage.html#ssl-warnings\n",
      "  InsecureRequestWarning)\n"
     ]
    }
   ],
   "source": [
    "data = {\"name\":\"examplelabel\"}\n",
    "resp = requests.post(url_base + \"/datasets/\" + datasetid + \"/tags\",\n",
    "                     headers=headers,\n",
    "                     data=json.dumps(data),\n",
    "                     verify=False)\n",
    "pprint.pprint((resp.json()))"
   ]
  },
  {
   "cell_type": "markdown",
   "metadata": {},
   "source": [
    "## Step 4: Use the Tag and File UUID to save labels for the image"
   ]
  },
  {
   "cell_type": "markdown",
   "metadata": {},
   "source": [
    "Set up JSON payload with valid tag id and bounding box information"
   ]
  },
  {
   "cell_type": "code",
   "execution_count": 7,
   "metadata": {},
   "outputs": [],
   "source": [
    "tagid = resp.json()['dataset_tag_id']\n",
    "\n",
    "labeldata = {\"tag_id\":tagid,\n",
    "             \"bndbox\":{\n",
    "                 \"xmin\":364,\n",
    "                 \"ymin\":495,\n",
    "                 \"xmax\":524,\n",
    "                 \"ymax\":606}\n",
    "            }"
   ]
  },
  {
   "cell_type": "code",
   "execution_count": 8,
   "metadata": {},
   "outputs": [
    {
     "name": "stderr",
     "output_type": "stream",
     "text": [
      "/Users/mchollin/.local/lib/python3.6/site-packages/urllib3/connectionpool.py:851: InsecureRequestWarning: Unverified HTTPS request is being made. Adding certificate verification is strongly advised. See: https://urllib3.readthedocs.io/en/latest/advanced-usage.html#ssl-warnings\n",
      "  InsecureRequestWarning)\n"
     ]
    }
   ],
   "source": [
    "resp = requests.post(url_base + \"/datasets/\" + datasetid + \"/files/\" + fileid + \"/object-labels\",\n",
    "                     headers=headers,\n",
    "                     data=json.dumps(labeldata),\n",
    "                     verify=False)"
   ]
  },
  {
   "cell_type": "code",
   "execution_count": 9,
   "metadata": {},
   "outputs": [
    {
     "data": {
      "text/plain": [
       "<Response [200]>"
      ]
     },
     "execution_count": 9,
     "metadata": {},
     "output_type": "execute_result"
    }
   ],
   "source": [
    "resp"
   ]
  },
  {
   "cell_type": "code",
   "execution_count": 10,
   "metadata": {},
   "outputs": [
    {
     "name": "stdout",
     "output_type": "stream",
     "text": [
      "{'dataset_id': 'f6479060-2cad-4393-b6fa-23afbd55e8e5',\n",
      " 'file_id': '9cf08f1a-8eab-4150-a48a-bf52f24629b0',\n",
      " 'id': '7410c22a-f9de-45ac-a19a-468b48f23b0f',\n",
      " 'name': 'examplelabel',\n",
      " 'result': 'success',\n",
      " 'tag_id': 'f6479060-2cad-4393-b6fa-23afbd55e8e5-examplelabel'}\n"
     ]
    }
   ],
   "source": [
    "pprint.pprint((resp.json()))"
   ]
  },
  {
   "cell_type": "markdown",
   "metadata": {},
   "source": [
    "This will result in a a new file (with the UUID shown above) being written to the data set with a single object label saved in it. To see this file, click on the URL below."
   ]
  },
  {
   "cell_type": "code",
   "execution_count": 11,
   "metadata": {},
   "outputs": [
    {
     "name": "stdout",
     "output_type": "stream",
     "text": [
      "Go to this URL in your browser to see the file you uploaded above!\n",
      "https://vision-poc1.aus.stglabs.ibm.com/visual-inspection-v130-prod#/datasets/f6479060-2cad-4393-b6fa-23afbd55e8e5/label?imageId=9cf08f1a-8eab-4150-a48a-bf52f24629b0\n"
     ]
    }
   ],
   "source": [
    "deeplink = instance_url + \"#/datasets/\"+ datasetid + \"/label?imageId=\" + fileid\n",
    "print(\"Go to this URL in your browser to see the file you uploaded above!\")\n",
    "print(deeplink)"
   ]
  },
  {
   "cell_type": "code",
   "execution_count": null,
   "metadata": {},
   "outputs": [],
   "source": []
  }
 ],
 "metadata": {
  "kernelspec": {
   "display_name": "Python 3",
   "language": "python",
   "name": "python3"
  },
  "language_info": {
   "codemirror_mode": {
    "name": "ipython",
    "version": 3
   },
   "file_extension": ".py",
   "mimetype": "text/x-python",
   "name": "python",
   "nbconvert_exporter": "python",
   "pygments_lexer": "ipython3",
   "version": "3.6.10"
  }
 },
 "nbformat": 4,
 "nbformat_minor": 4
}
